{
 "cells": [
  {
   "cell_type": "code",
   "execution_count": 1,
   "metadata": {},
   "outputs": [],
   "source": [
    "import pandas as pd\n",
    "import numpy as np\n",
    "import json\n",
    "from sklearn.model_selection import train_test_split,cross_val_score # for splitting the data into train and test samples\n",
    "from sklearn.metrics import classification_report, confusion_matrix   # for model evaluation metrics\n",
    "from sklearn.svm import SVC # for Support Vector Classification model\n",
    "from sklearn import svm\n",
    "from sklearn.metrics import accuracy_score\n",
    "import plotly.express as px  # for data visualization\n",
    "import plotly.graph_objects as go # for data visualization\n",
    "from sklearn.preprocessing import StandardScaler"
   ]
  },
  {
   "cell_type": "code",
   "execution_count": 2,
   "metadata": {},
   "outputs": [],
   "source": [
    "# get information about Senate and House, not including influencers\n",
    "house_df = pd.read_csv('data/congress_twitter_117th_house.csv', sep=',', header=0)\n",
    "# house_df = pd.read_csv('../../data/congress_twitter_117th_house.csv', sep=',', header=0)\n",
    "# keep their user name as ID, and also keep \"State\", and \"Party\" columns\n",
    "house_df[\"user_name\"] = house_df[\"Link\"].str.replace(\"https://twitter.com/\", \"\", regex=False)\n",
    "house_df = house_df[[\"user_name\", \"State\", \"Party\"]].copy()\n",
    "# senate_df = pd.read_csv('../../data/congress_twitter_117th_senate.csv', sep=',', header=0)\n",
    "senate_df = pd.read_csv('data/congress_twitter_117th_senate.csv', sep=',', header=0)\n",
    "# keep their user name as ID, and also keep \"State\", and \"Party\" columns\n",
    "senate_df[\"user_name\"] = senate_df[\"Link\"].str.replace(\"https://twitter.com/\", \"\", regex=False)\n",
    "senate_df = senate_df[[\"user_name\", \"State\", \"Party \"]].copy()\n",
    "senate_df = senate_df.rename(columns= {'Party ': 'Party'})\n",
    "house_senate_df = pd.concat([house_df,senate_df]).reset_index().drop(columns = ['index'])"
   ]
  },
  {
   "cell_type": "code",
   "execution_count": 9,
   "metadata": {},
   "outputs": [],
   "source": [
    "# get username including influencers\n",
    "with open('user_lookup.json') as json_file:\n",
    "    data = json.load(json_file)\n",
    "# filtered_index = [k for k in data if data[k] in house_senate_list]\n",
    "data = pd.DataFrame.from_dict({k:[v] for k,v in data.items()}).transpose()\n",
    "data.columns = ['user_name']\n",
    "data = data.reset_index().drop(columns = ['index'])\n",
    "\n",
    "# get the profiles including influencers\n",
    "# profile = np.loadtxt('user_profile_0_72/user_profile_72')\n",
    "profile = np.loadtxt('user_profile_151')\n",
    "\n",
    "profiles = pd.DataFrame(np.matrix(profile))\n",
    "profiles['profile'] = profiles.values.tolist()\n",
    "profiles =  pd.DataFrame(profiles['profile'])\n",
    "profiles = profiles.reset_index().drop(columns = ['index'])"
   ]
  },
  {
   "cell_type": "code",
   "execution_count": 10,
   "metadata": {},
   "outputs": [],
   "source": [
    "#get full information on Senate and House, not including influencers\n",
    "temp = pd.concat([data, profiles], axis=1)\n",
    "combined =temp.merge(house_senate_df, left_on='user_name', right_on='user_name',how = 'inner')\n",
    "# combined['Party'].replace({'D': 1, 'R': 0}, inplace=True) #D: 1, R:0\n",
    "combined = combined[combined['Party']!='I'] #there are only 2 people in party I"
   ]
  },
  {
   "cell_type": "code",
   "execution_count": 107,
   "metadata": {},
   "outputs": [],
   "source": [
    "# with open(\"raw_tables_2023_03_05/raw_tweets\", \"rb\") as raw_timeline_file:\n",
    "#     tweet_df = pd.read_pickle(raw_timeline_file)\n",
    "#     # tweet_df.to_csv('raw_tweets_out.csv')\n",
    "#     print(tweet_df[\"content\"].head(5))\n",
    "# tweet_df_sample = tweet_df.sample(n = 10000)\n",
    "\n",
    "# import numpy as np\n",
    "# mock_profile_df = tweet_df_sample[[\"user_name\"]].copy()\n",
    "# mock_profile_df[\"profile\"] = [np.random.rand(5) for i in range(len(mock_profile_df))]\n",
    "# print(mock_profile_df.head())"
   ]
  },
  {
   "cell_type": "code",
   "execution_count": 11,
   "metadata": {},
   "outputs": [
    {
     "name": "stdout",
     "output_type": "stream",
     "text": [
      "Cross-validation scores: [0.96470588 0.96470588 0.95238095 0.96428571 0.96428571]\n",
      "Accuracy: 0.9811320754716981\n",
      "              precision    recall  f1-score   support\n",
      "\n",
      "           D       0.98      0.98      0.98        59\n",
      "           R       0.98      0.98      0.98        47\n",
      "\n",
      "    accuracy                           0.98       106\n",
      "   macro avg       0.98      0.98      0.98       106\n",
      "weighted avg       0.98      0.98      0.98       106\n",
      "\n",
      "[[58  1]\n",
      " [ 1 46]]\n"
     ]
    }
   ],
   "source": [
    "X = np.array(combined[\"profile\"].values.tolist())\n",
    "y = np.array(combined[\"Party\"])\n",
    "X_train, X_test, y_train, y_test = train_test_split(X, y, test_size= 0.2)\n",
    "# scaler = StandardScaler().fit(X_train)\n",
    "# X_train_scaled = scaler.transform(X_train)\n",
    "# X_test_scaled = scaler.transform(X_test)\n",
    "# Create a SVM classifier with a linear kernel\n",
    "model = SVC(kernel='rbf')\n",
    "# Perform 5-fold cross-validation on the training data\n",
    "scores = cross_val_score(model, X_train, y_train, cv=5)\n",
    "# Print the cross-validation scores\n",
    "print(\"Cross-validation scores:\", scores)\n",
    "# Train the classifier on the training data\n",
    "model.fit(X_train, y_train)\n",
    "# Make predictions on the testing data\n",
    "y_pred = model.predict(X_test)\n",
    "# Calculate the accuracy of the classifier\n",
    "accuracy = accuracy_score(y_test, y_pred)\n",
    "print('Accuracy:', accuracy)\n",
    "print(classification_report(y_test,y_pred))#Output\n",
    "print(confusion_matrix(y_test,y_pred))"
   ]
  },
  {
   "cell_type": "code",
   "execution_count": 12,
   "metadata": {},
   "outputs": [
    {
     "name": "stdout",
     "output_type": "stream",
     "text": [
      "Fitting 5 folds for each of 30 candidates, totalling 150 fits\n",
      "{'C': 100, 'gamma': 0.01}\n",
      "SVC(C=100, gamma=0.01)\n",
      "0.9622641509433962\n"
     ]
    }
   ],
   "source": [
    "from sklearn.model_selection import GridSearchCV\n",
    "  \n",
    "# Define the parameter grid\n",
    "param_grid = {'C': [0.001, 0.01, 0.1, 1, 10, 100], 'gamma': [10,1, 0.1, 0.01, 0.001]}\n",
    "# Create a grid search object\n",
    "grid = GridSearchCV(SVC(), param_grid, refit=True, verbose=1)\n",
    "# Fit the grid search object to the training data\n",
    "grid.fit(X_train, y_train)\n",
    "# Get the best parameters\n",
    "best_params = grid.best_params_\n",
    "# print best parameter after tuning\n",
    "print(grid.best_params_)\n",
    "# print how our model looks after hyper-parameter tuning\n",
    "print(grid.best_estimator_)\n",
    "print(grid.score(X_test,y_test))"
   ]
  },
  {
   "cell_type": "code",
   "execution_count": 8,
   "metadata": {},
   "outputs": [
    {
     "name": "stdout",
     "output_type": "stream",
     "text": [
      "[[48  4]\n",
      " [ 7 47]]\n",
      "              precision    recall  f1-score   support\n",
      "\n",
      "           D       0.87      0.92      0.90        52\n",
      "           R       0.92      0.87      0.90        54\n",
      "\n",
      "    accuracy                           0.90       106\n",
      "   macro avg       0.90      0.90      0.90       106\n",
      "weighted avg       0.90      0.90      0.90       106\n",
      "\n"
     ]
    }
   ],
   "source": [
    "grid_predictions = grid.predict(X_test)\n",
    "print(confusion_matrix(y_test,grid_predictions))\n",
    "print(classification_report(y_test,grid_predictions))#Output"
   ]
  }
 ],
 "metadata": {
  "kernelspec": {
   "display_name": "base",
   "language": "python",
   "name": "python3"
  },
  "language_info": {
   "codemirror_mode": {
    "name": "ipython",
    "version": 3
   },
   "file_extension": ".py",
   "mimetype": "text/x-python",
   "name": "python",
   "nbconvert_exporter": "python",
   "pygments_lexer": "ipython3",
   "version": "3.9.12"
  },
  "orig_nbformat": 4
 },
 "nbformat": 4,
 "nbformat_minor": 2
}
