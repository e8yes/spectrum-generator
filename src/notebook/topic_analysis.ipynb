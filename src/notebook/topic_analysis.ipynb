{
  "nbformat": 4,
  "nbformat_minor": 0,
  "metadata": {
    "colab": {
      "provenance": [],
      "machine_shape": "hm",
      "toc_visible": true
    },
    "kernelspec": {
      "name": "python3",
      "display_name": "Python 3"
    },
    "language_info": {
      "name": "python"
    },
    "gpuClass": "premium",
    "accelerator": "GPU"
  },
  "cells": [
    {
      "cell_type": "code",
      "source": [
        "import pickle\n",
        "import pandas as pd\n",
        "import numpy as np\n",
        "\n",
        "import re\n",
        "from nltk.tokenize import word_tokenize\n",
        "import nltk\n",
        "nltk.download('punkt')\n",
        "\n",
        "from google.colab import drive\n",
        "drive.mount('/content/gdrive')"
      ],
      "metadata": {
        "id": "VHAJ7fJJU1NH"
      },
      "execution_count": null,
      "outputs": []
    },
    {
      "cell_type": "code",
      "source": [
        "with open(\"raw_user_profiles\", \"rb\") as raw_timeline_file:\n",
        "    user_df = pd.read_pickle(raw_timeline_file)\n",
        "\n",
        "with open(\"raw_tweets\", \"rb\") as raw_timeline_file:\n",
        "    tweet_df = pd.read_pickle(raw_timeline_file)\n",
        "\n",
        "pd.set_option('display.max_colwidth', None)"
      ],
      "metadata": {
        "id": "_A5-YsbSU1EP"
      },
      "execution_count": null,
      "outputs": []
    },
    {
      "cell_type": "code",
      "source": [
        "# select tweets with hashtags\n",
        "tweet_df['hashtag_len'] = tweet_df['hashtags'].apply(len)\n",
        "with_tags = tweet_df[tweet_df['hashtag_len'] > 0]\n",
        "\n",
        "print(f'there are a total of {len(with_tags)} tweets with hashtags')\n",
        "print(f'the percentage of tweets with hashtags out of total tweets is {len(with_tags)/len(tweet_df):.2%}')"
      ],
      "metadata": {
        "colab": {
          "base_uri": "https://localhost:8080/"
        },
        "id": "DUoZTJSTp7UH",
        "outputId": "dda75ed0-fb32-4c30-fa8d-34114dc5cced"
      },
      "execution_count": 4,
      "outputs": [
        {
          "output_type": "stream",
          "name": "stdout",
          "text": [
            "there are a total of 1328105 tweets with hashtags\n",
            "the percentage of tweets with hashtags out of total tweets is 25.14%\n"
          ]
        }
      ]
    },
    {
      "cell_type": "code",
      "source": [
        "# preprocess tweets\n",
        "def clean(tweet):\n",
        "    temp = re.sub(r\"(http?\\://|https?\\://|www)\\S+\", \"\", tweet) #Remove http links\n",
        "    temp = re.sub(r'\\s*\\b(?:https?:\\/\\/)?(?:www\\.)?\\S+\\.(com|org|gov)\\S*\\b', ' ', temp)  # remove com/org/gov links\n",
        "    temp = re.sub(r'\\bbit\\.ly\\/\\S*', '', temp) #remove bit.ly links\n",
        "    temp = re.sub(r'\\bow\\.ly\\/\\S*', '', temp) #remove ow.ly links\n",
        "    temp = re.sub(r'\\B@\\w+', '@username', temp) #replace user mention with \"@username\"\n",
        "    temp = re.sub(r'\\#\\w+', '', temp) #remove hashtags\n",
        "    return temp\n",
        "with_tags['tweet_cleaned'] = with_tags['content'].apply(clean)\n",
        "\n",
        "# expand tweets with multiple hashtags into multiple rows\n",
        "with_tags = with_tags.explode('hashtags')"
      ],
      "metadata": {
        "id": "bnFcdPWrykhU"
      },
      "execution_count": null,
      "outputs": []
    },
    {
      "cell_type": "code",
      "source": [
        "# there is a total of 168,101 unique hashtags used, the vast majority of them are only used a couple of times\n",
        "hashtag_freq = with_tags.groupby('hashtags', as_index = False)['id'].count().sort_values(by=['id'], ascending=False)\n",
        "hashtag_freq.columns = ['hashtags', 'frequency']\n",
        "hashtag_freq['frequency'].describe()"
      ],
      "metadata": {
        "colab": {
          "base_uri": "https://localhost:8080/"
        },
        "id": "fdhetOVtsxWR",
        "outputId": "3aa841c3-8eb6-4536-875b-684bc35edb1f"
      },
      "execution_count": 6,
      "outputs": [
        {
          "output_type": "execute_result",
          "data": {
            "text/plain": [
              "count    161801.000000\n",
              "mean         11.665632\n",
              "std         146.709016\n",
              "min           1.000000\n",
              "25%           1.000000\n",
              "50%           1.000000\n",
              "75%           3.000000\n",
              "max       33100.000000\n",
              "Name: frequency, dtype: float64"
            ]
          },
          "metadata": {},
          "execution_count": 6
        }
      ]
    },
    {
      "cell_type": "code",
      "source": [
        "# even among the top 1000 most frequent hashtags, a small number of them are much more popular than the rest\n",
        "import matplotlib.pyplot as plt\n",
        "plt.hist(hashtag_freq.iloc[:1000]['frequency'])\n",
        "plt.xlabel('frequency')\n",
        "plt.ylabel('# hashtags')\n",
        "plt.show()"
      ],
      "metadata": {
        "colab": {
          "base_uri": "https://localhost:8080/",
          "height": 450
        },
        "id": "MH8ulunUy4TW",
        "outputId": "6b3051bc-1142-429a-c275-349ce7e8df2e"
      },
      "execution_count": 7,
      "outputs": [
        {
          "output_type": "display_data",
          "data": {
            "text/plain": [
              "<Figure size 640x480 with 1 Axes>"
            ],
            "image/png": "[encoded data removed]"
          },
          "metadata": {}
        }
      ]
    },
    {
      "cell_type": "code",
      "source": [
        "# select the most popular hashtags\n",
        "high_freq_tags = hashtag_freq[hashtag_freq['frequency'] >= 5000]\n",
        "high_freq_tags"
      ],
      "metadata": {
        "id": "3nnN42mjKALY",
        "colab": {
          "base_uri": "https://localhost:8080/",
          "height": 614
        },
        "outputId": "fa1ad02f-eaba-468f-e9ff-e159cc3eec33"
      },
      "execution_count": 8,
      "outputs": [
        {
          "output_type": "execute_result",
          "data": {
            "text/plain": [
              "                  hashtags  frequency\n",
              "17415              COVID19      33100\n",
              "92604                 SOTU      15338\n",
              "155601                tcot      10472\n",
              "3029                   ACA      10398\n",
              "37537         ForThePeople       9506\n",
              "91641               SCOTUS       8994\n",
              "76986            Obamacare       8259\n",
              "6893    AmericanRescuePlan       8240\n",
              "15257      BuildBackBetter       8086\n",
              "106055             TheLead       7724\n",
              "138895                jobs       7384\n",
              "127694         coronavirus       6173\n",
              "40909           GetCovered       5753\n",
              "84849       ProtectOurCare       5432\n",
              "39709                  GOP       5350\n",
              "39867           GOPTaxScam       5314\n",
              "5053          ActOnClimate       5307\n",
              "158857            veterans       5209"
            ],
            "text/html": [
              "\n",
              "  <div id=\"df-e3fc682c-2847-49ca-8e37-280bd9251d45\">\n",
              "    <div class=\"colab-df-container\">\n",
              "      <div>\n",
              "<style scoped>\n",
              "    .dataframe tbody tr th:only-of-type {\n",
              "        vertical-align: middle;\n",
              "    }\n",
              "\n",
              "    .dataframe tbody tr th {\n",
              "        vertical-align: top;\n",
              "    }\n",
              "\n",
              "    .dataframe thead th {\n",
              "        text-align: right;\n",
              "    }\n",
              "</style>\n",
              "<table border=\"1\" class=\"dataframe\">\n",
              "  <thead>\n",
              "    <tr style=\"text-align: right;\">\n",
              "      <th></th>\n",
              "      <th>hashtags</th>\n",
              "      <th>frequency</th>\n",
              "    </tr>\n",
              "  </thead>\n",
              "  <tbody>\n",
              "    <tr>\n",
              "      <th>17415</th>\n",
              "      <td>COVID19</td>\n",
              "      <td>33100</td>\n",
              "    </tr>\n",
              "    <tr>\n",
              "      <th>92604</th>\n",
              "      <td>SOTU</td>\n",
              "      <td>15338</td>\n",
              "    </tr>\n",
              "    <tr>\n",
              "      <th>155601</th>\n",
              "      <td>tcot</td>\n",
              "      <td>10472</td>\n",
              "    </tr>\n",
              "    <tr>\n",
              "      <th>3029</th>\n",
              "      <td>ACA</td>\n",
              "      <td>10398</td>\n",
              "    </tr>\n",
              "    <tr>\n",
              "      <th>37537</th>\n",
              "      <td>ForThePeople</td>\n",
              "      <td>9506</td>\n",
              "    </tr>\n",
              "    <tr>\n",
              "      <th>91641</th>\n",
              "      <td>SCOTUS</td>\n",
              "      <td>8994</td>\n",
              "    </tr>\n",
              "    <tr>\n",
              "      <th>76986</th>\n",
              "      <td>Obamacare</td>\n",
              "      <td>8259</td>\n",
              "    </tr>\n",
              "    <tr>\n",
              "      <th>6893</th>\n",
              "      <td>AmericanRescuePlan</td>\n",
              "      <td>8240</td>\n",
              "    </tr>\n",
              "    <tr>\n",
              "      <th>15257</th>\n",
              "      <td>BuildBackBetter</td>\n",
              "      <td>8086</td>\n",
              "    </tr>\n",
              "    <tr>\n",
              "      <th>106055</th>\n",
              "      <td>TheLead</td>\n",
              "      <td>7724</td>\n",
              "    </tr>\n",
              "    <tr>\n",
              "      <th>138895</th>\n",
              "      <td>jobs</td>\n",
              "      <td>7384</td>\n",
              "    </tr>\n",
              "    <tr>\n",
              "      <th>127694</th>\n",
              "      <td>coronavirus</td>\n",
              "      <td>6173</td>\n",
              "    </tr>\n",
              "    <tr>\n",
              "      <th>40909</th>\n",
              "      <td>GetCovered</td>\n",
              "      <td>5753</td>\n",
              "    </tr>\n",
              "    <tr>\n",
              "      <th>84849</th>\n",
              "      <td>ProtectOurCare</td>\n",
              "      <td>5432</td>\n",
              "    </tr>\n",
              "    <tr>\n",
              "      <th>39709</th>\n",
              "      <td>GOP</td>\n",
              "      <td>5350</td>\n",
              "    </tr>\n",
              "    <tr>\n",
              "      <th>39867</th>\n",
              "      <td>GOPTaxScam</td>\n",
              "      <td>5314</td>\n",
              "    </tr>\n",
              "    <tr>\n",
              "      <th>5053</th>\n",
              "      <td>ActOnClimate</td>\n",
              "      <td>5307</td>\n",
              "    </tr>\n",
              "    <tr>\n",
              "      <th>158857</th>\n",
              "      <td>veterans</td>\n",
              "      <td>5209</td>\n",
              "    </tr>\n",
              "  </tbody>\n",
              "</table>\n",
              "</div>\n",
              "      <button class=\"colab-df-convert\" onclick=\"convertToInteractive('df-e3fc682c-2847-49ca-8e37-280bd9251d45')\"\n",
              "              title=\"Convert this dataframe to an interactive table.\"\n",
              "              style=\"display:none;\">\n",
              "        \n",
              "  <svg xmlns=\"http://www.w3.org/2000/svg\" height=\"24px\"viewBox=\"0 0 24 24\"\n",
              "       width=\"24px\">\n",
              "    <path d=\"M0 0h24v24H0V0z\" fill=\"none\"/>\n",
              "    <path d=\"M18.56 5.44l.94 2.06.94-2.06 2.06-.94-2.06-.94-.94-2.06-.94 2.06-2.06.94zm-11 1L8.5 8.5l.94-2.06 2.06-.94-2.06-.94L8.5 2.5l-.94 2.06-2.06.94zm10 10l.94 2.06.94-2.06 2.06-.94-2.06-.94-.94-2.06-.94 2.06-2.06.94z\"/><path d=\"M17.41 7.96l-1.37-1.37c-.4-.4-.92-.59-1.43-.59-.52 0-1.04.2-1.43.59L10.3 9.45l-7.72 7.72c-.78.78-.78 2.05 0 2.83L4 21.41c.39.39.9.59 1.41.59.51 0 1.02-.2 1.41-.59l7.78-7.78 2.81-2.81c.8-.78.8-2.07 0-2.86zM5.41 20L4 18.59l7.72-7.72 1.47 1.35L5.41 20z\"/>\n",
              "  </svg>\n",
              "      </button>\n",
              "      \n",
              "  <style>\n",
              "    .colab-df-container {\n",
              "      display:flex;\n",
              "      flex-wrap:wrap;\n",
              "      gap: 12px;\n",
              "    }\n",
              "\n",
              "    .colab-df-convert {\n",
              "      background-color: #E8F0FE;\n",
              "      border: none;\n",
              "      border-radius: 50%;\n",
              "      cursor: pointer;\n",
              "      display: none;\n",
              "      fill: #1967D2;\n",
              "      height: 32px;\n",
              "      padding: 0 0 0 0;\n",
              "      width: 32px;\n",
              "    }\n",
              "\n",
              "    .colab-df-convert:hover {\n",
              "      background-color: #E2EBFA;\n",
              "      box-shadow: 0px 1px 2px rgba(60, 64, 67, 0.3), 0px 1px 3px 1px rgba(60, 64, 67, 0.15);\n",
              "      fill: #174EA6;\n",
              "    }\n",
              "\n",
              "    [theme=dark] .colab-df-convert {\n",
              "      background-color: #3B4455;\n",
              "      fill: #D2E3FC;\n",
              "    }\n",
              "\n",
              "    [theme=dark] .colab-df-convert:hover {\n",
              "      background-color: #434B5C;\n",
              "      box-shadow: 0px 1px 3px 1px rgba(0, 0, 0, 0.15);\n",
              "      filter: drop-shadow(0px 1px 2px rgba(0, 0, 0, 0.3));\n",
              "      fill: #FFFFFF;\n",
              "    }\n",
              "  </style>\n",
              "\n",
              "      <script>\n",
              "        const buttonEl =\n",
              "          document.querySelector('#df-e3fc682c-2847-49ca-8e37-280bd9251d45 button.colab-df-convert');\n",
              "        buttonEl.style.display =\n",
              "          google.colab.kernel.accessAllowed ? 'block' : 'none';\n",
              "\n",
              "        async function convertToInteractive(key) {\n",
              "          const element = document.querySelector('#df-e3fc682c-2847-49ca-8e37-280bd9251d45');\n",
              "          const dataTable =\n",
              "            await google.colab.kernel.invokeFunction('convertToInteractive',\n",
              "                                                     [key], {});\n",
              "          if (!dataTable) return;\n",
              "\n",
              "          const docLinkHtml = 'Like what you see? Visit the ' +\n",
              "            '<a target=\"_blank\" href=https://colab.research.google.com/notebooks/data_table.ipynb>data table notebook</a>'\n",
              "            + ' to learn more about interactive tables.';\n",
              "          element.innerHTML = '';\n",
              "          dataTable['output_type'] = 'display_data';\n",
              "          await google.colab.output.renderOutput(dataTable, element);\n",
              "          const docLink = document.createElement('div');\n",
              "          docLink.innerHTML = docLinkHtml;\n",
              "          element.appendChild(docLink);\n",
              "        }\n",
              "      </script>\n",
              "    </div>\n",
              "  </div>\n",
              "  "
            ]
          },
          "metadata": {},
          "execution_count": 8
        }
      ]
    },
    {
      "cell_type": "code",
      "source": [
        "# from tweets with the most popular hashtags, sample an equal number of tweets from each hashtag\n",
        "tweets_with_high_freq_tags = pd.merge(with_tags, high_freq_tags,on='hashtags')\n",
        "tweet_sampled = tweets_with_high_freq_tags.groupby('hashtags', group_keys=False).apply(lambda x: x.sample(n=3000, replace=False))"
      ],
      "metadata": {
        "id": "RWvdkRyaLXiQ"
      },
      "execution_count": 9,
      "outputs": []
    },
    {
      "cell_type": "code",
      "source": [
        "tweet_sampled = tweet_sampled.dropna(subset=['tweet_cleaned'])\n",
        "tweet_sampled['tweet_len'] = tweet_sampled['tweet_cleaned'].map(lambda x: len(word_tokenize(x)))\n",
        "tweet_sampled['tweet_len'].describe()"
      ],
      "metadata": {
        "colab": {
          "base_uri": "https://localhost:8080/"
        },
        "id": "o_jTuB3TO9WS",
        "outputId": "5c56e3db-cafd-4664-8e62-e72c1805e46d"
      },
      "execution_count": 10,
      "outputs": [
        {
          "output_type": "execute_result",
          "data": {
            "text/plain": [
              "count    54000.000000\n",
              "mean        28.527111\n",
              "std         13.343716\n",
              "min          0.000000\n",
              "25%         18.000000\n",
              "50%         25.000000\n",
              "75%         40.000000\n",
              "max         79.000000\n",
              "Name: tweet_len, dtype: float64"
            ]
          },
          "metadata": {},
          "execution_count": 10
        }
      ]
    },
    {
      "cell_type": "code",
      "source": [
        "# remove tweets that are too short\n",
        "tweet_sampled = tweet_sampled[tweet_sampled['tweet_len']>=10]"
      ],
      "metadata": {
        "id": "doThmr1NQU2f"
      },
      "execution_count": 11,
      "outputs": []
    },
    {
      "cell_type": "code",
      "source": [
        "# use CANINE (a character-level encoding model) on lightly preprocessed tweets to predict their hashtags\n",
        "from transformers import AutoTokenizer, CanineForSequenceClassification\n",
        "num_labels = len(high_freq_tags)\n",
        "tokenizer = AutoTokenizer.from_pretrained(\"google/canine-s\")\n",
        "model = CanineForSequenceClassification.from_pretrained(\"google/canine-s\",\\\n",
        "                                                        num_labels=num_labels,\\\n",
        "                                                        problem_type=\"multi_label_classification\")"
      ],
      "metadata": {
        "id": "Hpsv7mhpYD-y"
      },
      "execution_count": null,
      "outputs": []
    },
    {
      "cell_type": "code",
      "source": [
        "# encode labels (hashtags) into numeric values\n",
        "from sklearn.preprocessing import LabelEncoder\n",
        "le = LabelEncoder()\n",
        "encoded_label = le.fit_transform(high_freq_tags['hashtags'])\n",
        "label_lookup = pd.DataFrame({'encoded_label': encoded_label, 'true_label': le.inverse_transform(encoded_label)})"
      ],
      "metadata": {
        "id": "HxR0hRejNIDA"
      },
      "execution_count": 13,
      "outputs": []
    },
    {
      "cell_type": "code",
      "source": [
        "tweet_sampled = tweet_sampled.merge(label_lookup, left_on ='hashtags', right_on='true_label', how='left')\n",
        "tweet_sampled = tweet_sampled[['content','tweet_cleaned','encoded_label', 'true_label']]"
      ],
      "metadata": {
        "id": "HK2ttMEVOHp7"
      },
      "execution_count": 14,
      "outputs": []
    },
    {
      "cell_type": "code",
      "source": [
        "# find the longest tokenized sequence length in the dataset\n",
        "encoding = tokenizer(tweet_sampled['tweet_cleaned'].tolist(), padding=\"longest\",\\\n",
        "                     add_special_tokens = False, return_tensors=\"pt\")\n",
        "MAX_LENGTH = encoding['input_ids'].shape[1]"
      ],
      "metadata": {
        "id": "BWx8k6hZ24L3"
      },
      "execution_count": 15,
      "outputs": []
    },
    {
      "cell_type": "code",
      "source": [
        "MAX_LENGTH"
      ],
      "metadata": {
        "colab": {
          "base_uri": "https://localhost:8080/"
        },
        "id": "fi39M29vCNhl",
        "outputId": "0a887be7-5fe3-48c5-aea6-7f0ea0d176b1"
      },
      "execution_count": 16,
      "outputs": [
        {
          "output_type": "execute_result",
          "data": {
            "text/plain": [
              "308"
            ]
          },
          "metadata": {},
          "execution_count": 16
        }
      ]
    },
    {
      "cell_type": "code",
      "source": [
        "# split data into 80% train, 20% validation and apply tokenizer on train_set and val_set\n",
        "from sklearn.model_selection import train_test_split\n",
        "train_set, val_set = train_test_split(tweet_sampled, test_size=0.2, random_state=42)\n",
        "train_set_enc = tokenizer(train_set['tweet_cleaned'].tolist(), padding=True,\\\n",
        "                      max_length = MAX_LENGTH, truncation = True, \\\n",
        "                     add_special_tokens = False, return_tensors=\"pt\")\n",
        "val_set_enc = tokenizer(val_set['tweet_cleaned'].tolist(), padding=True,\\\n",
        "                      max_length = MAX_LENGTH, truncation = True, \\\n",
        "                     add_special_tokens = False, return_tensors=\"pt\")"
      ],
      "metadata": {
        "id": "IaY3fl8XvGhH"
      },
      "execution_count": 17,
      "outputs": []
    },
    {
      "cell_type": "code",
      "source": [
        "# prepare data for training\n",
        "import torch\n",
        "from torch.utils.data import Dataset, DataLoader\n",
        "class TwitterDataset(Dataset):\n",
        "    def __init__(self, encodings, labels):\n",
        "        self.encodings = encodings\n",
        "        self.labels = labels\n",
        "\n",
        "    def __getitem__(self, idx):\n",
        "        item = {key: torch.tensor(val[idx]) for key, val in self.encodings.items()}\n",
        "        item['labels'] = self.labels[idx]\n",
        "        return item\n",
        "     \n",
        "    def __len__(self):\n",
        "        return len(self.labels)"
      ],
      "metadata": {
        "id": "fEFr7MGg4QVq"
      },
      "execution_count": 18,
      "outputs": []
    },
    {
      "cell_type": "code",
      "source": [
        "train_dataset = TwitterDataset(train_set_enc, train_set['encoded_label'].tolist())\n",
        "train_loader = DataLoader(train_dataset, batch_size=128, shuffle=False)\n",
        "val_dataset = TwitterDataset(val_set_enc, val_set['encoded_label'].tolist())\n",
        "val_loader = DataLoader(val_dataset, batch_size=128, shuffle=False)"
      ],
      "metadata": {
        "id": "gZFGa8nn07Fm"
      },
      "execution_count": 19,
      "outputs": []
    },
    {
      "cell_type": "code",
      "source": [
        "# model training\n",
        "from tqdm import tqdm\n",
        "from transformers import AdamW\n",
        "import torch.nn.functional as nnF\n",
        "\n",
        "device = torch.device('cuda') if torch.cuda.is_available() else torch.device('cpu')\n",
        "\n",
        "model.to(device)\n",
        "model.train()\n",
        "\n",
        "optim = AdamW(model.parameters(), lr=1e-4)\n",
        "\n",
        "for epoch in range(10):\n",
        "  train_loss = 0\n",
        "  counter = 0\n",
        "\n",
        "  for idx, batch in tqdm(enumerate(train_loader), total=len(train_loader)):\n",
        "\n",
        "    optim.zero_grad()\n",
        "    input_ids = batch['input_ids'].to(device)\n",
        "    token_type_ids = batch['token_type_ids'].to(device)\n",
        "    attention_mask = batch['attention_mask'].to(device)\n",
        "    labels = batch['labels'].to(device) \n",
        "    one_hot_labels = nnF.one_hot(labels, num_classes=num_labels).float()\n",
        "\n",
        "    loss = model(input_ids=input_ids,\\\n",
        "               token_type_ids=token_type_ids,\\\n",
        "               attention_mask=attention_mask,\\\n",
        "               labels=one_hot_labels).loss\n",
        "\n",
        "    train_loss += loss\n",
        "    counter += 1\n",
        "    loss.backward()\n",
        "    optim.step()\n",
        "    torch.cuda.empty_cache()\n",
        "  \n",
        "  print(f'epoch {epoch} loss =======> {train_loss/counter}')"
      ],
      "metadata": {
        "colab": {
          "base_uri": "https://localhost:8080/"
        },
        "id": "qoOurm_PrShC",
        "outputId": "b8844a84-8ad4-4a5b-9ad7-c4defbfccaec"
      },
      "execution_count": 20,
      "outputs": [
        {
          "output_type": "stream",
          "name": "stderr",
          "text": [
            "/usr/local/lib/python3.9/dist-packages/transformers/optimization.py:391: FutureWarning: This implementation of AdamW is deprecated and will be removed in a future version. Use the PyTorch implementation torch.optim.AdamW instead, or set `no_deprecation_warning=True` to disable this warning\n",
            "  warnings.warn(\n",
            "  0%|          | 0/327 [00:00<?, ?it/s]<ipython-input-18-8ed059976f70>:11: UserWarning: To copy construct from a tensor, it is recommended to use sourceTensor.clone().detach() or sourceTensor.clone().detach().requires_grad_(True), rather than torch.tensor(sourceTensor).\n",
            "  item = {key: torch.tensor(val[idx]) for key, val in self.encodings.items()}\n",
            "100%|██████████| 327/327 [03:13<00:00,  1.69it/s]\n"
          ]
        },
        {
          "output_type": "stream",
          "name": "stdout",
          "text": [
            "epoch 0 loss =======> 0.21045610308647156\n"
          ]
        },
        {
          "output_type": "stream",
          "name": "stderr",
          "text": [
            "100%|██████████| 327/327 [03:05<00:00,  1.76it/s]\n"
          ]
        },
        {
          "output_type": "stream",
          "name": "stdout",
          "text": [
            "epoch 1 loss =======> 0.13764545321464539\n"
          ]
        },
        {
          "output_type": "stream",
          "name": "stderr",
          "text": [
            "100%|██████████| 327/327 [03:05<00:00,  1.76it/s]\n"
          ]
        },
        {
          "output_type": "stream",
          "name": "stdout",
          "text": [
            "epoch 2 loss =======> 0.10603442788124084\n"
          ]
        },
        {
          "output_type": "stream",
          "name": "stderr",
          "text": [
            "100%|██████████| 327/327 [03:05<00:00,  1.76it/s]\n"
          ]
        },
        {
          "output_type": "stream",
          "name": "stdout",
          "text": [
            "epoch 3 loss =======> 0.08853109180927277\n"
          ]
        },
        {
          "output_type": "stream",
          "name": "stderr",
          "text": [
            "100%|██████████| 327/327 [03:06<00:00,  1.76it/s]\n"
          ]
        },
        {
          "output_type": "stream",
          "name": "stdout",
          "text": [
            "epoch 4 loss =======> 0.07531439512968063\n"
          ]
        },
        {
          "output_type": "stream",
          "name": "stderr",
          "text": [
            "100%|██████████| 327/327 [03:05<00:00,  1.76it/s]\n"
          ]
        },
        {
          "output_type": "stream",
          "name": "stdout",
          "text": [
            "epoch 5 loss =======> 0.06495903432369232\n"
          ]
        },
        {
          "output_type": "stream",
          "name": "stderr",
          "text": [
            "100%|██████████| 327/327 [03:05<00:00,  1.76it/s]\n"
          ]
        },
        {
          "output_type": "stream",
          "name": "stdout",
          "text": [
            "epoch 6 loss =======> 0.057270348072052\n"
          ]
        },
        {
          "output_type": "stream",
          "name": "stderr",
          "text": [
            "100%|██████████| 327/327 [03:06<00:00,  1.76it/s]\n"
          ]
        },
        {
          "output_type": "stream",
          "name": "stdout",
          "text": [
            "epoch 7 loss =======> 0.051099441945552826\n"
          ]
        },
        {
          "output_type": "stream",
          "name": "stderr",
          "text": [
            "100%|██████████| 327/327 [03:06<00:00,  1.76it/s]\n"
          ]
        },
        {
          "output_type": "stream",
          "name": "stdout",
          "text": [
            "epoch 8 loss =======> 0.04488616809248924\n"
          ]
        },
        {
          "output_type": "stream",
          "name": "stderr",
          "text": [
            "100%|██████████| 327/327 [03:05<00:00,  1.76it/s]"
          ]
        },
        {
          "output_type": "stream",
          "name": "stdout",
          "text": [
            "epoch 9 loss =======> 0.04090004041790962\n"
          ]
        },
        {
          "output_type": "stream",
          "name": "stderr",
          "text": [
            "\n"
          ]
        }
      ]
    },
    {
      "cell_type": "code",
      "source": [
        "# validation\n",
        "model.eval()\n",
        "total_loss = 0\n",
        "correct_predictions = 0\n",
        "total_predictions = 0\n",
        "counter = 0\n",
        "predictions = []\n",
        "\n",
        "with torch.no_grad():\n",
        "  for idx, batch in tqdm(enumerate(val_loader), total=len(val_loader)):\n",
        "\n",
        "    input_ids = batch['input_ids'].to(device)\n",
        "    token_type_ids = batch['token_type_ids'].to(device)\n",
        "    attention_mask = batch['attention_mask'].to(device)\n",
        "    labels = batch['labels'].to(device) \n",
        "    one_hot_labels = nnF.one_hot(labels, num_classes=num_labels).float()\n",
        "  \n",
        "    logits = model(input_ids = input_ids,\\\n",
        "                 token_type_ids = token_type_ids,\\\n",
        "                 attention_mask= attention_mask).logits\n",
        "    loss = model(input_ids=input_ids,\\\n",
        "               token_type_ids=token_type_ids,\\\n",
        "               attention_mask=attention_mask,\\\n",
        "               labels=one_hot_labels).loss\n",
        "    probs = nnF.softmax(logits, dim=1)\n",
        "    predicted_labels = probs.argmax(1)\n",
        "  \n",
        "    predictions.extend(predicted_labels.tolist())\n",
        "    total_loss += loss.item()\n",
        "    correct_predictions += (predicted_labels == labels).type(torch.float).sum().item()\n",
        "    total_predictions += len(labels)\n",
        "    counter += 1\n",
        "\n",
        "print(f'validation loss =======> {total_loss/counter:.4f}')\n",
        "print(f'validation accuracy =======> {correct_predictions/total_predictions:.4f}')"
      ],
      "metadata": {
        "colab": {
          "base_uri": "https://localhost:8080/"
        },
        "id": "CJ3hzZyHDALS",
        "outputId": "5ef4b745-ed59-4128-bd40-fd37e38a44e3"
      },
      "execution_count": 21,
      "outputs": [
        {
          "output_type": "stream",
          "name": "stderr",
          "text": [
            "\r  0%|          | 0/82 [00:00<?, ?it/s]<ipython-input-18-8ed059976f70>:11: UserWarning: To copy construct from a tensor, it is recommended to use sourceTensor.clone().detach() or sourceTensor.clone().detach().requires_grad_(True), rather than torch.tensor(sourceTensor).\n",
            "  item = {key: torch.tensor(val[idx]) for key, val in self.encodings.items()}\n",
            "100%|██████████| 82/82 [00:31<00:00,  2.58it/s]"
          ]
        },
        {
          "output_type": "stream",
          "name": "stdout",
          "text": [
            "validation loss =======> 0.1190\n",
            "validation accuracy =======> 0.6519\n"
          ]
        },
        {
          "output_type": "stream",
          "name": "stderr",
          "text": [
            "\n"
          ]
        }
      ]
    },
    {
      "cell_type": "code",
      "source": [
        "# print sample predictions\n",
        "val_set['predicted_labels'] = predictions\n",
        "val_predictions = val_set.merge(label_lookup, left_on = 'predicted_labels', right_on = 'encoded_label', how = 'left')\n",
        "val_predictions = val_predictions[['content', 'tweet_cleaned','true_label_x','true_label_y']]\n",
        "val_predictions.columns = ['original_tweet', 'cleaned_tweet', 'true_hashtag', 'predicted_hashtag']\n",
        "val_predictions.sample(10)"
      ],
      "metadata": {
        "colab": {
          "base_uri": "https://localhost:8080/",
          "height": 754
        },
        "id": "99rN0CwBF9GG",
        "outputId": "080673a2-8430-48fc-ff11-2a0b1b73364e"
      },
      "execution_count": 31,
      "outputs": [
        {
          "output_type": "execute_result",
          "data": {
            "text/plain": [
              "                                                                                                                                                                                                                                                                                  original_tweet  \\\n",
              "4400                                                                                                                                                                                   Where is @POTUS plan to defeat radical Islamic terrorism? Oh wait, he doesn't have one... #SOTU #LastSOTU   \n",
              "3480                                                                                                                                                                                  Make sure you're subscribed to my YouTube channel --&gt; youtube.com/user/MarioDiaz… #sayfie #tcot #latism   \n",
              "2979  I helped secure $154.8 million in Child Tax Credit tax cuts for over 76,000 families in the Fourth District, $89 million in restaurant grants for small businesses, and $1.8 billion to help K-12 schools reopen safely in MA.\\n\\n@HouseDemocrats deliver #ForThePeople. \\n\\nLearn more ⬇️   \n",
              "8865                                                                                                                                    I am disappointed w/ today's #SCOTUS ruling. But I remain committed to protecting the lives of the unborn. #utpol washingtonexaminer.com/supreme-court-…   \n",
              "4797                                                                                                                                                                                             Countries with questionable records condemn US at the UN cnn.it/2p9xwK2 @jaketapper on #TheLead   \n",
              "3657                                                                                                                                                                           Former Israeli spy chief: Israel may have to withhold intel from U.S. cnn.it/2pV1jSI @OrenCNN reports on #TheLead   \n",
              "2674                                                                                                                                .@HouseGOP @USCBO .@USCBO, #TrumpCare defunds @PPFA. How will this affect women’s access to family planning? We need to know. #NoScoreNoVote #ProtectOurCare   \n",
              "4504           As we work to address the spread of #coronavirus, it is imperative that patients are not being turned away because of their insurance. Americans have enough to worry about with this contagion without having to worry about their health care coverage. https://t.co/eFEyFpWL3H   \n",
              "4612                        Doing a few interviews after tonight’s #SOTU. Most important takeaway was we need @POTUS to follow up on his words with real action and real resources that help those suffering from the opioid crisis, low wages or possible pension cuts. https://t.co/2Z0dR36SAP   \n",
              "9894                                                                                                                                                                   .@BarackObama proposes to raise taxes on #Smallbiz -- they create 64% of new American #jobs bit.ly/Mtpwdm #StopTheTaxHike   \n",
              "\n",
              "                                                                                                                                                                                                                                                                cleaned_tweet  \\\n",
              "4400                                                                                                                                                                           Where is @username plan to defeat radical Islamic terrorism? Oh wait, he doesn't have one...     \n",
              "3480                                                                                                                                                                                                            Make sure you're subscribed to my YouTube channel --&gt; …      \n",
              "2979  I helped secure $154.8 million in Child Tax Credit tax cuts for over 76,000 families in the Fourth District, $89 million in restaurant grants for small businesses, and $1.8 billion to help K-12 schools reopen safely in MA.\\n\\n@username deliver . \\n\\nLearn more ⬇️   \n",
              "8865                                                                                                                                                                  I am disappointed w/ today's  ruling. But I remain committed to protecting the lives of the unborn.  -…   \n",
              "4797                                                                                                                                                                                    Countries with questionable records condemn US at the UN cnn.it/2p9xwK2 @username on    \n",
              "3657                                                                                                                                                               Former Israeli spy chief: Israel may have to withhold intel from U.S. cnn.it/2pV1jSI @username reports on    \n",
              "2674                                                                                                                                          .@username @username .@username,  defunds @username. How will this affect women’s access to family planning? We need to know.     \n",
              "4504                           As we work to address the spread of , it is imperative that patients are not being turned away because of their insurance. Americans have enough to worry about with this contagion without having to worry about their health care coverage.    \n",
              "4612                              Doing a few interviews after tonight’s . Most important takeaway was we need @username to follow up on his words with real action and real resources that help those suffering from the opioid crisis, low wages or possible pension cuts.    \n",
              "9894                                                                                                                                                                                             .@username proposes to raise taxes on  -- they create 64% of new American      \n",
              "\n",
              "        true_hashtag   predicted_hashtag  \n",
              "4400            SOTU                tcot  \n",
              "3480            tcot                tcot  \n",
              "2979    ForThePeople  AmericanRescuePlan  \n",
              "8865          SCOTUS              SCOTUS  \n",
              "4797         TheLead             TheLead  \n",
              "3657         TheLead             TheLead  \n",
              "2674  ProtectOurCare                 ACA  \n",
              "4504     coronavirus                 ACA  \n",
              "4612            SOTU                SOTU  \n",
              "9894            jobs                jobs  "
            ],
            "text/html": [
              "\n",
              "  <div id=\"df-014c8dcb-33f8-4f7c-856e-b3a6e714dcae\">\n",
              "    <div class=\"colab-df-container\">\n",
              "      <div>\n",
              "<style scoped>\n",
              "    .dataframe tbody tr th:only-of-type {\n",
              "        vertical-align: middle;\n",
              "    }\n",
              "\n",
              "    .dataframe tbody tr th {\n",
              "        vertical-align: top;\n",
              "    }\n",
              "\n",
              "    .dataframe thead th {\n",
              "        text-align: right;\n",
              "    }\n",
              "</style>\n",
              "<table border=\"1\" class=\"dataframe\">\n",
              "  <thead>\n",
              "    <tr style=\"text-align: right;\">\n",
              "      <th></th>\n",
              "      <th>original_tweet</th>\n",
              "      <th>cleaned_tweet</th>\n",
              "      <th>true_hashtag</th>\n",
              "      <th>predicted_hashtag</th>\n",
              "    </tr>\n",
              "  </thead>\n",
              "  <tbody>\n",
              "    <tr>\n",
              "      <th>4400</th>\n",
              "      <td>Where is @POTUS plan to defeat radical Islamic terrorism? Oh wait, he doesn't have one... #SOTU #LastSOTU</td>\n",
              "      <td>Where is @username plan to defeat radical Islamic terrorism? Oh wait, he doesn't have one...</td>\n",
              "      <td>SOTU</td>\n",
              "      <td>tcot</td>\n",
              "    </tr>\n",
              "    <tr>\n",
              "      <th>3480</th>\n",
              "      <td>Make sure you're subscribed to my YouTube channel --&amp;gt; youtube.com/user/MarioDiaz… #sayfie #tcot #latism</td>\n",
              "      <td>Make sure you're subscribed to my YouTube channel --&amp;gt; …</td>\n",
              "      <td>tcot</td>\n",
              "      <td>tcot</td>\n",
              "    </tr>\n",
              "    <tr>\n",
              "      <th>2979</th>\n",
              "      <td>I helped secure $154.8 million in Child Tax Credit tax cuts for over 76,000 families in the Fourth District, $89 million in restaurant grants for small businesses, and $1.8 billion to help K-12 schools reopen safely in MA.\\n\\n@HouseDemocrats deliver #ForThePeople. \\n\\nLearn more ⬇️</td>\n",
              "      <td>I helped secure $154.8 million in Child Tax Credit tax cuts for over 76,000 families in the Fourth District, $89 million in restaurant grants for small businesses, and $1.8 billion to help K-12 schools reopen safely in MA.\\n\\n@username deliver . \\n\\nLearn more ⬇️</td>\n",
              "      <td>ForThePeople</td>\n",
              "      <td>AmericanRescuePlan</td>\n",
              "    </tr>\n",
              "    <tr>\n",
              "      <th>8865</th>\n",
              "      <td>I am disappointed w/ today's #SCOTUS ruling. But I remain committed to protecting the lives of the unborn. #utpol washingtonexaminer.com/supreme-court-…</td>\n",
              "      <td>I am disappointed w/ today's  ruling. But I remain committed to protecting the lives of the unborn.  -…</td>\n",
              "      <td>SCOTUS</td>\n",
              "      <td>SCOTUS</td>\n",
              "    </tr>\n",
              "    <tr>\n",
              "      <th>4797</th>\n",
              "      <td>Countries with questionable records condemn US at the UN cnn.it/2p9xwK2 @jaketapper on #TheLead</td>\n",
              "      <td>Countries with questionable records condemn US at the UN cnn.it/2p9xwK2 @username on</td>\n",
              "      <td>TheLead</td>\n",
              "      <td>TheLead</td>\n",
              "    </tr>\n",
              "    <tr>\n",
              "      <th>3657</th>\n",
              "      <td>Former Israeli spy chief: Israel may have to withhold intel from U.S. cnn.it/2pV1jSI @OrenCNN reports on #TheLead</td>\n",
              "      <td>Former Israeli spy chief: Israel may have to withhold intel from U.S. cnn.it/2pV1jSI @username reports on</td>\n",
              "      <td>TheLead</td>\n",
              "      <td>TheLead</td>\n",
              "    </tr>\n",
              "    <tr>\n",
              "      <th>2674</th>\n",
              "      <td>.@HouseGOP @USCBO .@USCBO, #TrumpCare defunds @PPFA. How will this affect women’s access to family planning? We need to know. #NoScoreNoVote #ProtectOurCare</td>\n",
              "      <td>.@username @username .@username,  defunds @username. How will this affect women’s access to family planning? We need to know.</td>\n",
              "      <td>ProtectOurCare</td>\n",
              "      <td>ACA</td>\n",
              "    </tr>\n",
              "    <tr>\n",
              "      <th>4504</th>\n",
              "      <td>As we work to address the spread of #coronavirus, it is imperative that patients are not being turned away because of their insurance. Americans have enough to worry about with this contagion without having to worry about their health care coverage. https://t.co/eFEyFpWL3H</td>\n",
              "      <td>As we work to address the spread of , it is imperative that patients are not being turned away because of their insurance. Americans have enough to worry about with this contagion without having to worry about their health care coverage.</td>\n",
              "      <td>coronavirus</td>\n",
              "      <td>ACA</td>\n",
              "    </tr>\n",
              "    <tr>\n",
              "      <th>4612</th>\n",
              "      <td>Doing a few interviews after tonight’s #SOTU. Most important takeaway was we need @POTUS to follow up on his words with real action and real resources that help those suffering from the opioid crisis, low wages or possible pension cuts. https://t.co/2Z0dR36SAP</td>\n",
              "      <td>Doing a few interviews after tonight’s . Most important takeaway was we need @username to follow up on his words with real action and real resources that help those suffering from the opioid crisis, low wages or possible pension cuts.</td>\n",
              "      <td>SOTU</td>\n",
              "      <td>SOTU</td>\n",
              "    </tr>\n",
              "    <tr>\n",
              "      <th>9894</th>\n",
              "      <td>.@BarackObama proposes to raise taxes on #Smallbiz -- they create 64% of new American #jobs bit.ly/Mtpwdm #StopTheTaxHike</td>\n",
              "      <td>.@username proposes to raise taxes on  -- they create 64% of new American</td>\n",
              "      <td>jobs</td>\n",
              "      <td>jobs</td>\n",
              "    </tr>\n",
              "  </tbody>\n",
              "</table>\n",
              "</div>\n",
              "      <button class=\"colab-df-convert\" onclick=\"convertToInteractive('df-014c8dcb-33f8-4f7c-856e-b3a6e714dcae')\"\n",
              "              title=\"Convert this dataframe to an interactive table.\"\n",
              "              style=\"display:none;\">\n",
              "        \n",
              "  <svg xmlns=\"http://www.w3.org/2000/svg\" height=\"24px\"viewBox=\"0 0 24 24\"\n",
              "       width=\"24px\">\n",
              "    <path d=\"M0 0h24v24H0V0z\" fill=\"none\"/>\n",
              "    <path d=\"M18.56 5.44l.94 2.06.94-2.06 2.06-.94-2.06-.94-.94-2.06-.94 2.06-2.06.94zm-11 1L8.5 8.5l.94-2.06 2.06-.94-2.06-.94L8.5 2.5l-.94 2.06-2.06.94zm10 10l.94 2.06.94-2.06 2.06-.94-2.06-.94-.94-2.06-.94 2.06-2.06.94z\"/><path d=\"M17.41 7.96l-1.37-1.37c-.4-.4-.92-.59-1.43-.59-.52 0-1.04.2-1.43.59L10.3 9.45l-7.72 7.72c-.78.78-.78 2.05 0 2.83L4 21.41c.39.39.9.59 1.41.59.51 0 1.02-.2 1.41-.59l7.78-7.78 2.81-2.81c.8-.78.8-2.07 0-2.86zM5.41 20L4 18.59l7.72-7.72 1.47 1.35L5.41 20z\"/>\n",
              "  </svg>\n",
              "      </button>\n",
              "      \n",
              "  <style>\n",
              "    .colab-df-container {\n",
              "      display:flex;\n",
              "      flex-wrap:wrap;\n",
              "      gap: 12px;\n",
              "    }\n",
              "\n",
              "    .colab-df-convert {\n",
              "      background-color: #E8F0FE;\n",
              "      border: none;\n",
              "      border-radius: 50%;\n",
              "      cursor: pointer;\n",
              "      display: none;\n",
              "      fill: #1967D2;\n",
              "      height: 32px;\n",
              "      padding: 0 0 0 0;\n",
              "      width: 32px;\n",
              "    }\n",
              "\n",
              "    .colab-df-convert:hover {\n",
              "      background-color: #E2EBFA;\n",
              "      box-shadow: 0px 1px 2px rgba(60, 64, 67, 0.3), 0px 1px 3px 1px rgba(60, 64, 67, 0.15);\n",
              "      fill: #174EA6;\n",
              "    }\n",
              "\n",
              "    [theme=dark] .colab-df-convert {\n",
              "      background-color: #3B4455;\n",
              "      fill: #D2E3FC;\n",
              "    }\n",
              "\n",
              "    [theme=dark] .colab-df-convert:hover {\n",
              "      background-color: #434B5C;\n",
              "      box-shadow: 0px 1px 3px 1px rgba(0, 0, 0, 0.15);\n",
              "      filter: drop-shadow(0px 1px 2px rgba(0, 0, 0, 0.3));\n",
              "      fill: #FFFFFF;\n",
              "    }\n",
              "  </style>\n",
              "\n",
              "      <script>\n",
              "        const buttonEl =\n",
              "          document.querySelector('#df-014c8dcb-33f8-4f7c-856e-b3a6e714dcae button.colab-df-convert');\n",
              "        buttonEl.style.display =\n",
              "          google.colab.kernel.accessAllowed ? 'block' : 'none';\n",
              "\n",
              "        async function convertToInteractive(key) {\n",
              "          const element = document.querySelector('#df-014c8dcb-33f8-4f7c-856e-b3a6e714dcae');\n",
              "          const dataTable =\n",
              "            await google.colab.kernel.invokeFunction('convertToInteractive',\n",
              "                                                     [key], {});\n",
              "          if (!dataTable) return;\n",
              "\n",
              "          const docLinkHtml = 'Like what you see? Visit the ' +\n",
              "            '<a target=\"_blank\" href=https://colab.research.google.com/notebooks/data_table.ipynb>data table notebook</a>'\n",
              "            + ' to learn more about interactive tables.';\n",
              "          element.innerHTML = '';\n",
              "          dataTable['output_type'] = 'display_data';\n",
              "          await google.colab.output.renderOutput(dataTable, element);\n",
              "          const docLink = document.createElement('div');\n",
              "          docLink.innerHTML = docLinkHtml;\n",
              "          element.appendChild(docLink);\n",
              "        }\n",
              "      </script>\n",
              "    </div>\n",
              "  </div>\n",
              "  "
            ]
          },
          "metadata": {},
          "execution_count": 31
        }
      ]
    }
  ]
}