{
 "cells": [
  {
   "cell_type": "code",
   "execution_count": 5,
   "metadata": {},
   "outputs": [
    {
     "name": "stdout",
     "output_type": "stream",
     "text": [
      "                ID State Party\n",
      "0         RepAdams    NC     D\n",
      "1  Robert_Aderholt    AL     R\n",
      "2   RepPeteAguilar    CA     D\n",
      "3     RepRickAllen    GA     R\n",
      "4   RepColinAllred    TX     D\n"
     ]
    }
   ],
   "source": [
    "import pandas as pd\n",
    "\n",
    "house_df = pd.read_csv('../../data/congress_twitter_117th_house.csv', sep=',', header=0)\n",
    "\n",
    "# keep their user name as ID, and also keep \"State\", and \"Party\" columns\n",
    "house_df[\"ID\"] = house_df[\"Link\"].str.replace(\"https://twitter.com/\", \"\", regex=False)\n",
    "house_df = house_df[[\"ID\", \"State\", \"Party\"]].copy()\n",
    "\n",
    "print(house_df.head())"
   ]
  },
  {
   "cell_type": "code",
   "execution_count": 7,
   "metadata": {},
   "outputs": [
    {
     "name": "stdout",
     "output_type": "stream",
     "text": [
      "                ID State Party \n",
      "0   SenatorBaldwin    WI      D\n",
      "1  SenJohnBarrasso    WY      R\n",
      "2    SenatorBennet    CO      D\n",
      "3  MarshaBlackburn    TN      R\n",
      "4    SenBlumenthal    CT      D\n"
     ]
    }
   ],
   "source": [
    "import pandas as pd\n",
    "\n",
    "senate_df = pd.read_csv('../../data/congress_twitter_117th_senate.csv', sep=',', header=0)\n",
    "\n",
    "# keep their user name as ID, and also keep \"State\", and \"Party\" columns\n",
    "senate_df[\"ID\"] = senate_df[\"Link\"].str.replace(\"https://twitter.com/\", \"\", regex=False)\n",
    "senate_df = senate_df[[\"ID\", \"State\", \"Party \"]].copy()\n",
    "\n",
    "print(senate_df.head())"
   ]
  }
 ],
 "metadata": {
  "kernelspec": {
   "display_name": "base",
   "language": "python",
   "name": "python3"
  },
  "language_info": {
   "codemirror_mode": {
    "name": "ipython",
    "version": 3
   },
   "file_extension": ".py",
   "mimetype": "text/x-python",
   "name": "python",
   "nbconvert_exporter": "python",
   "pygments_lexer": "ipython3",
   "version": "3.9.13"
  },
  "orig_nbformat": 4
 },
 "nbformat": 4,
 "nbformat_minor": 2
}
